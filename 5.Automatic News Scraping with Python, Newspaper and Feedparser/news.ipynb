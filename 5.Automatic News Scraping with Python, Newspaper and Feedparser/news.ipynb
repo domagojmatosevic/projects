{
 "cells": [
  {
   "cell_type": "code",
   "execution_count": 36,
   "metadata": {},
   "outputs": [],
   "source": [
    "import newspaper\n",
    "import feedparser"
   ]
  },
  {
   "cell_type": "code",
   "execution_count": 37,
   "metadata": {},
   "outputs": [],
   "source": [
    "def scrape_news_from_feed(feed_url):\n",
    "    articles = []\n",
    "    feed = feedparser.parse(feed_url)\n",
    "\n",
    "    for entry in feed.entries:\n",
    "        #create a newspaper article object\n",
    "        article = newspaper.Article(entry.link)\n",
    "        #download and parse the article\n",
    "        article.download()\n",
    "        article.parse()\n",
    "        #extract relevant information\n",
    "        articles.append({\n",
    "            'title': article.title,\n",
    "            'author': article.authors,\n",
    "            'publish_date': article.publish_date,\n",
    "            'content': article.text\n",
    "        })\n",
    "        print(article)\n",
    "    return articles"
   ]
  },
  {
   "cell_type": "code",
   "execution_count": 38,
   "metadata": {},
   "outputs": [],
   "source": [
    "feed_url = 'http://feeds.bcci.co.uk/news/rss.xml'\n",
    "articles = scrape_news_from_feed(feed_url)\n",
    "\n",
    "#print the extracted articles\n",
    "for article in articles:\n",
    "    print('Title:', article['title'])\n",
    "    print('Author:', article['author'])\n",
    "    print('Publish Date:', article['publish_date'])\n",
    "    print('Content:', article['content'])\n",
    "    print()"
   ]
  }
 ],
 "metadata": {
  "kernelspec": {
   "display_name": "Python 3",
   "language": "python",
   "name": "python3"
  },
  "language_info": {
   "codemirror_mode": {
    "name": "ipython",
    "version": 3
   },
   "file_extension": ".py",
   "mimetype": "text/x-python",
   "name": "python",
   "nbconvert_exporter": "python",
   "pygments_lexer": "ipython3",
   "version": "3.10.11"
  }
 },
 "nbformat": 4,
 "nbformat_minor": 2
}
