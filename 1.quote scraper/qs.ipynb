{
 "cells": [
  {
   "cell_type": "code",
   "execution_count": 23,
   "metadata": {},
   "outputs": [
    {
     "name": "stdout",
     "output_type": "stream",
     "text": [
      "Now Scraping https://quotes.toscrape.com/page/1\n",
      "None\n"
     ]
    }
   ],
   "source": [
    "import requests\n",
    "from bs4 import BeautifulSoup\n",
    "from csv import writer\n",
    "from time import sleep\n",
    "from random import choice\n",
    "\n",
    "# list to store scraped data\n",
    "all_quotes = []\n",
    "\n",
    "# this part of the url is constant\n",
    "base_url = \"https://quotes.toscrape.com\"\n",
    "\n",
    "page = \"/page/1\"\n",
    "\n",
    "while page:\n",
    "    res = requests.get(f\"{base_url}{page}\")\n",
    "    print(f\"Now Scraping {base_url}{page}\")\n",
    "    soup = BeautifulSoup(res.text, 'html.parser')\n",
    "\n",
    "    BeautifulSoup(res.text, \"html.parser\")\n",
    "\n",
    "    quotes = soup.find_all(class_=\"quote\")\n",
    "\n",
    "    for quote in quotes:\n",
    "        all_quotes.append({\n",
    "            \"text\": quote.find(class_=\"text\").get_text(),\n",
    "            \"author\": quote.find(class_=\"author\").get_text(),\n",
    "            \"bio-link\": quote.find(\"a\")[\"href\"]\n",
    "        })\n",
    "    next_btn = soup.find(class_=\"next\")\n",
    "    print(next_btn)\n",
    "    page = next_btn.find(\"a\")[\"href\"] if next_btn else None\n",
    "    sleep(2)"
   ]
  },
  {
   "cell_type": "code",
   "execution_count": 83,
   "metadata": {},
   "outputs": [
    {
     "name": "stdout",
     "output_type": "stream",
     "text": [
      "Here's a quote: \n",
      "“A woman is like a tea bag; you never know how strong it is until it's in hot water.”\n"
     ]
    }
   ],
   "source": [
    "quote = choice(all_quotes)\n",
    "remaining_guesses = 4\n",
    "print(\"Here's a quote: \")\n",
    "print(quote[\"text\"])"
   ]
  },
  {
   "cell_type": "code",
   "execution_count": null,
   "metadata": {},
   "outputs": [],
   "source": [
    "guess=''\n",
    "while guess.lower() != quote[\"author\"].lower() and remaining_guesses > 0:\n",
    "    guess = input(\n",
    "        f\"Who said this quote? Guesses reamining {remaining_guesses}\")\n",
    "    \n",
    "    if guess == quote[\"author\"]:\n",
    "        print(\"CONGRATULATIONS!!! YOU GOT IT RIGHT\")\n",
    "        break\n",
    "    remaining_guesses -= 1\n",
    "\n",
    "    if remaining_guesses == 3:\n",
    "        res = requests.get(f\"{base_url}{quote['bio-link']}\")\n",
    "        soup = BeautifulSoup(res.text, \"html.parser\")\n",
    "        birth_date = soup.find(class_=\"author-born-date\").get_text()\n",
    "        birth_place = soup.find(class_=\"author-born-location\").get_text()\n",
    "        print(f\"Here's a hint: The author was born on {birth_date}{birth_place}\")\n",
    "\n",
    "    elif remaining_guesses == 2:\n",
    "        print(f\"Here's a hint: The author's first name starts with: {quote['author'][0]}\")\n",
    "\n",
    "    elif remaining_guesses == 1:\n",
    "        last_initial = quote[\"author\"].split(\" \")[1][0]\n",
    "        print(f\"Here's a hint: The author's last name starts with: {last_initial}\")\n",
    "\n",
    "    else:\n",
    "        print(f\"Sorry, you ran out of guesses. The answer was {quote['author']}\")"
   ]
  }
 ],
 "metadata": {
  "kernelspec": {
   "display_name": "Python 3",
   "language": "python",
   "name": "python3"
  },
  "language_info": {
   "codemirror_mode": {
    "name": "ipython",
    "version": 3
   },
   "file_extension": ".py",
   "mimetype": "text/x-python",
   "name": "python",
   "nbconvert_exporter": "python",
   "pygments_lexer": "ipython3",
   "version": "3.10.11"
  }
 },
 "nbformat": 4,
 "nbformat_minor": 2
}
