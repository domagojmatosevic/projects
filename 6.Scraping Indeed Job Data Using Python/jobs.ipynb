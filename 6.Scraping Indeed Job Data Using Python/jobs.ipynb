{
 "cells": [
  {
   "cell_type": "code",
   "execution_count": 38,
   "metadata": {},
   "outputs": [],
   "source": [
    "#import module\n",
    "import requests\n",
    "from bs4 import BeautifulSoup\n",
    "\n"
   ]
  },
  {
   "cell_type": "code",
   "execution_count": 39,
   "metadata": {},
   "outputs": [],
   "source": [
    "# user define function\n",
    "# Scrape the data\n",
    "# and get in string\n",
    "def getdata(url): \n",
    "    r = requests.get(url) \n",
    "    return r.text "
   ]
  },
  {
   "cell_type": "code",
   "execution_count": 40,
   "metadata": {},
   "outputs": [],
   "source": [
    "\n",
    "# Get Html code using parse\n",
    "def html_code(url):\n",
    "\n",
    "    # pass the url\n",
    "    # into getdata function\n",
    "    htmldata = getdata(url)\n",
    "    soup = BeautifulSoup(htmldata, 'html.parser')\n",
    "\n",
    "    # return html code\n",
    "    return(soup)"
   ]
  },
  {
   "cell_type": "code",
   "execution_count": 41,
   "metadata": {},
   "outputs": [],
   "source": [
    "# filter job data using \n",
    "# find_all function \n",
    "def job_data(soup): \n",
    "    \n",
    "    # find the Html tag \n",
    "    # with find() \n",
    "    # and convert into string \n",
    "    data_str = \"\" \n",
    "    for item in soup.find_all(\"a\", class_=\"jobtitle turnstileLink\"): \n",
    "        data_str = data_str + item.get_text() \n",
    "    result_1 = data_str.split(\"\\n\") \n",
    "    return(result_1) "
   ]
  },
  {
   "cell_type": "code",
   "execution_count": 42,
   "metadata": {},
   "outputs": [],
   "source": [
    "\n",
    "# filter job data using\n",
    "# find_all function\n",
    "\n",
    "def company_data(soup):\n",
    "\n",
    "    # find the Html tag\n",
    "    # with find()\n",
    "    # and convert into string\n",
    "    data_str = \"\"\n",
    "    result = \"\"\n",
    "    for item in soup.find_all(\"div\", class_=\"sjcl\"):\n",
    "        data_str = data_str.split(\"\\n\")\n",
    "    result_1 = data_str.split(\"\\n\")\n",
    "    \n",
    "    res = []\n",
    "    for i in range(1, len(result_1)):\n",
    "        if len(result_1[i]) > 1:\n",
    "            res.append(result_1[i])\n",
    "    return(res)"
   ]
  },
  {
   "cell_type": "code",
   "execution_count": 43,
   "metadata": {},
   "outputs": [],
   "source": [
    "\n",
    "# driver nodes/main function\n",
    "if __name__ == \"__main__\":\n",
    "    # Data for URL\n",
    "    job = \"data+science+intership\"\n",
    "    Location = \"Noid@2C+Uttar+Pradesh\"\n",
    "    url = \"https://in.indeed.com/jobs?q=\"+job+\"&l=\"+Location\n",
    "\n",
    "    # Pass this URL into the soup\n",
    "    # which will return \n",
    "    # html string\n",
    "    soup = html_code(url)\n",
    "\n",
    "    # call job and company data\n",
    "    # and store in to it var\n",
    "    job_res = job_data(soup)\n",
    "    com_res = company_data(soup)\n",
    "\n",
    "    # Traverse the both data\n",
    "    temp = 0\n",
    "    for i in range(1, len(job_res)):\n",
    "        j = temp\n",
    "        for j in range(temp, 2+temp):\n",
    "            print(\"Company Name and Address :\" + com_res[j])\n",
    "        \n",
    "        temp = j\n",
    "        print(\"Job : \" + job_res[i])\n",
    "        print(\"------------------------\")"
   ]
  }
 ],
 "metadata": {
  "kernelspec": {
   "display_name": "Python 3",
   "language": "python",
   "name": "python3"
  },
  "language_info": {
   "codemirror_mode": {
    "name": "ipython",
    "version": 3
   },
   "file_extension": ".py",
   "mimetype": "text/x-python",
   "name": "python",
   "nbconvert_exporter": "python",
   "pygments_lexer": "ipython3",
   "version": "3.10.11"
  }
 },
 "nbformat": 4,
 "nbformat_minor": 2
}
