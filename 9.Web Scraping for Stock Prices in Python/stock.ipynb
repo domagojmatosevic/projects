{
 "cells": [
  {
   "cell_type": "code",
   "execution_count": 4,
   "metadata": {},
   "outputs": [],
   "source": [
    "import requests\n",
    "from bs4 import BeautifulSoup\n",
    "import pandas as pd\n",
    "import time"
   ]
  },
  {
   "cell_type": "code",
   "execution_count": 5,
   "metadata": {},
   "outputs": [],
   "source": [
    "headers = {'user-agent':'Mozilla/5.0 \\\n",
    "           (Windows Nt 10.0; Win64; x64) \\\n",
    "           AppleWebKit/537.36 (KHTML, like Gecko) \\\n",
    "           Chrome/84.0.4147.105 Safari/537.36'}\n",
    "urls = [\n",
    "    'https://groww.in/us-stocks/nke',\n",
    "    'https://groww.in/us-stocks/ko', \n",
    "    'https://groww.in/us-stocks/msft', \n",
    "    'https://groww.in/stocks/m-india-ltd', \n",
    "    'https://groww.in/us-stocks/axp', \n",
    "    'https://groww.in/us-stocks/amgn', \n",
    "    'https://groww.in/us-stocks/aapl', \n",
    "    'https://groww.in/us-stocks/ba', \n",
    "    'https://groww.in/us-stocks/csco', \n",
    "    'https://groww.in/us-stocks/gs', \n",
    "    'https://groww.in/us-stocks/ibm', \n",
    "    'https://groww.in/us-stocks/intc', \n",
    "    'https://groww.in/us-stocks/jpm', \n",
    "    'https://groww.in/us-stocks/mcd',\n",
    "    'https://groww.in/us-stocks/crm', \n",
    "    'https://groww.in/us-stocks/vz', \n",
    "    'https://groww.in/us-stocks/v', \n",
    "    'https://groww.in/us-stocks/wmt',  \n",
    "    'https://groww.in/us-stocks/dis'\n",
    "    ]"
   ]
  },
  {
   "cell_type": "code",
   "execution_count": 8,
   "metadata": {},
   "outputs": [
    {
     "name": "stdout",
     "output_type": "stream",
     "text": [
      "Change the Element id\n",
      "Change the Element id\n",
      "Change the Element id\n",
      "Change the Element id\n",
      "Change the Element id\n",
      "Change the Element id\n",
      "Change the Element id\n",
      "Change the Element id\n",
      "Change the Element id\n",
      "Change the Element id\n",
      "Change the Element id\n",
      "Change the Element id\n",
      "Change the Element id\n",
      "Change the Element id\n",
      "Change the Element id\n",
      "Change the Element id\n",
      "Change the Element id\n",
      "Change the Element id\n",
      "Change the Element id\n"
     ]
    }
   ],
   "source": [
    "all = []\n",
    "for url in urls:\n",
    "    page = requests.get(url,headers=headers)\n",
    "    try:\n",
    "        soup = BeautifulSoup(page.text, 'html.parser')\n",
    "        company = soup.find('h1', {'class': 'usph14Head displaySmall'}).text\n",
    "        price = soup.find('span', {'class': 'uht141Pri contentPrimary displayBase'}).text\n",
    "        change = soup.find('div', {'class': 'uht141Day bodyBaseHeavy contentNegative'}).text\n",
    "        volume = soup.find('table', {'class': 'tb10Table col l5'}).find_all('td')[1].text\n",
    "        x = [company,price,change,volume]\n",
    "        all.append(x)\n",
    "\n",
    "    except AttributeError:\n",
    "        print('Change the Element id')\n",
    "    # Wait for a short time to avoid rate limiting\n",
    "    time.sleep(2)\n"
   ]
  },
  {
   "cell_type": "code",
   "execution_count": 9,
   "metadata": {},
   "outputs": [
    {
     "data": {
      "text/html": [
       "<div>\n",
       "<style scoped>\n",
       "    .dataframe tbody tr th:only-of-type {\n",
       "        vertical-align: middle;\n",
       "    }\n",
       "\n",
       "    .dataframe tbody tr th {\n",
       "        vertical-align: top;\n",
       "    }\n",
       "\n",
       "    .dataframe thead th {\n",
       "        text-align: right;\n",
       "    }\n",
       "</style>\n",
       "<table border=\"1\" class=\"dataframe\">\n",
       "  <thead>\n",
       "    <tr style=\"text-align: right;\">\n",
       "      <th></th>\n",
       "      <th>Company</th>\n",
       "      <th>Price</th>\n",
       "      <th>Change</th>\n",
       "      <th>Volume</th>\n",
       "    </tr>\n",
       "  </thead>\n",
       "  <tbody>\n",
       "  </tbody>\n",
       "</table>\n",
       "</div>"
      ],
      "text/plain": [
       "Empty DataFrame\n",
       "Columns: [Company, Price, Change, Volume]\n",
       "Index: []"
      ]
     },
     "execution_count": 9,
     "metadata": {},
     "output_type": "execute_result"
    }
   ],
   "source": [
    "column_names = [\"Company\", \"Price\", \"Change\", \"Volume\"]\n",
    "df = pd.DataFrame(columns=column_names)\n",
    "for i in all:\n",
    "    index = 0\n",
    "    df.loc[index] = i\n",
    "    df.index = df.index + 1\n",
    "df = df.reset_index(drop=True)\n",
    "df"
   ]
  },
  {
   "cell_type": "code",
   "execution_count": 10,
   "metadata": {},
   "outputs": [],
   "source": [
    "df.to_excel('stock.xlsx')"
   ]
  }
 ],
 "metadata": {
  "kernelspec": {
   "display_name": "Python 3",
   "language": "python",
   "name": "python3"
  },
  "language_info": {
   "codemirror_mode": {
    "name": "ipython",
    "version": 3
   },
   "file_extension": ".py",
   "mimetype": "text/x-python",
   "name": "python",
   "nbconvert_exporter": "python",
   "pygments_lexer": "ipython3",
   "version": "3.10.11"
  }
 },
 "nbformat": 4,
 "nbformat_minor": 2
}
